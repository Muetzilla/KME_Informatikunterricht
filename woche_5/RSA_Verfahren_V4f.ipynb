{
  "nbformat": 4,
  "nbformat_minor": 0,
  "metadata": {
    "colab": {
      "provenance": [],
      "include_colab_link": true
    },
    "kernelspec": {
      "name": "python3",
      "display_name": "Python 3"
    },
    "language_info": {
      "name": "python"
    }
  },
  "cells": [
    {
      "cell_type": "markdown",
      "metadata": {
        "id": "view-in-github",
        "colab_type": "text"
      },
      "source": [
        "<a href=\"https://colab.research.google.com/github/Muetzilla/KME_Informatikunterricht/blob/main/woche_5/RSA_Verfahren_V4f.ipynb\" target=\"_parent\"><img src=\"https://colab.research.google.com/assets/colab-badge.svg\" alt=\"Open In Colab\"/></a>"
      ]
    },
    {
      "cell_type": "markdown",
      "source": [
        "#Asymmetrische Verschlüsselung mit RSA\n",
        "Sie haben bereits die Verschlüsselungs- und Entschlüsselungsfunktionen des RSA Verfahrens implementiert. Diese können Sie im Folgenden verwenden. Kopieren Sie diese dazu in die nächsten Code-Zellen. Falls Ihre Funktionen nicht funktionieren, können Sie die bereits vorhandenen Funktionen verwenden."
      ],
      "metadata": {
        "id": "v974jGACxXz6"
      }
    },
    {
      "cell_type": "code",
      "source": [
        "def encryption_rsa(text, public_key):\n",
        "    \"\"\"\n",
        "    Verschlüssele `text` gemäss RSA-Verfahren mit dem\n",
        "    `public_key` der als Input geliefert wird.\n",
        "    \"\"\"\n",
        "    e, n = public_key\n",
        "    # Unser Ergebnis für den verschlüsselten Text\n",
        "    verschluesselter_text = \"\"\n",
        "    # Verschlüssele jeden Buchstaben einzeln\n",
        "    # Nimm einen Buchstaben nach dem anderen aus dem Text\n",
        "    for buchstabe in text:\n",
        "        # Wandle den Buchstaben in seinen ASCII-Code um\n",
        "        m = ord(buchstabe)\n",
        "        # Berechne eine neuen Code (Verschlüsselung)\n",
        "        c = (m ** e) % n\n",
        "        # Finde das ASCII-Zeichen für den neuen Code\n",
        "        neuer_buchstabe = chr(c)\n",
        "        # Hänge den neuen Buchstaben an das Ergebnis an\n",
        "        verschluesselter_text = verschluesselter_text + neuer_buchstabe\n",
        "    return verschluesselter_text\n",
        "\n",
        "\n",
        "def decryption_rsa(text, private_key):\n",
        "    \"\"\"\n",
        "    Entschlüssle nach dem RSA-Verfahren den `text`\n",
        "    mit dem Schlüssel `private_key`\n",
        "    \"\"\"\n",
        "    d, n = private_key\n",
        "    # Das Ergebnis für den entschlüsselten Text\n",
        "    entschluesselter_text = \"\"\n",
        "    # Entschlüssele ein Zeichen nach dem anderen\n",
        "    for buchstabe in text:\n",
        "        # Wandle den Buchstaben in seinen ASCII-Code um\n",
        "        c = ord(buchstabe)\n",
        "        # Berechne den neuen Code\n",
        "        m = (c ** d) % n\n",
        "        # Finde das ASCII-Zeichen für den neuen Code\n",
        "        neuer_buchstabe = chr(m)\n",
        "        # Hänge den neuen Buchstaben an das Ergebnis an\n",
        "        entschluesselter_text = entschluesselter_text + neuer_buchstabe\n",
        "    return entschluesselter_text"
      ],
      "metadata": {
        "id": "GGrvloHwyz0Y"
      },
      "execution_count": 1,
      "outputs": []
    },
    {
      "cell_type": "markdown",
      "source": [
        "### Anwendung dieser Funktionen\n",
        "\n"
      ],
      "metadata": {
        "id": "Nq36vmMczIGB"
      }
    },
    {
      "cell_type": "code",
      "source": [
        "# Schlüssel müssen gegeben sein\n",
        "public_key = (65537, 13837)\n",
        "private_key = (13473, 13837)\n",
        "\n",
        "print(\"Public Key:\", public_key)\n",
        "print(\"Private Key:\", private_key)\n",
        "\n",
        "# Der Klartext\n",
        "text = \"Hallo Bob\"\n",
        "\n",
        "# Der Geheimtext\n",
        "verschluesselter_text = encryption_rsa(text, public_key)\n",
        "\n",
        "# Der entschlüsselte Geheimtext\n",
        "entschluesselter_text = decryption_rsa(verschluesselter_text, private_key)\n",
        "\n",
        "# Ausgabe für den Vergleich\n",
        "print(\"Ursprungstext       : \", text)\n",
        "print(\"Verschlüsselter Text: \", verschluesselter_text)\n",
        "print(\"Entschlüsselter Text: \", entschluesselter_text)\n",
        "\n",
        "# Vergleich\n",
        "if text == entschluesselter_text:\n",
        "    print(\"Der Text und der entschlüsselte Text sind identisch.\")\n",
        "else:\n",
        "    print(\"Der Text und der entschlüsselte Text sind nicht identisch.\")"
      ],
      "metadata": {
        "id": "J4-_1Vkgz7iy",
        "colab": {
          "base_uri": "https://localhost:8080/"
        },
        "outputId": "2f1abf86-7b1c-4103-cd53-78c37a662a5f"
      },
      "execution_count": 2,
      "outputs": [
        {
          "output_type": "stream",
          "name": "stdout",
          "text": [
            "Public Key: (65537, 13837)\n",
            "Private Key: (13473, 13837)\n",
            "Ursprungstext       :  Hallo Bob\n",
            "Verschlüsselter Text:  ᷢ᫙⬤⬤ԫ㌣ᶣԫˋ\n",
            "Entschlüsselter Text:  Hallo Bob\n",
            "Der Text und der entschlüsselte Text sind identisch.\n"
          ]
        }
      ]
    },
    {
      "cell_type": "code",
      "source": [],
      "metadata": {
        "id": "hyj6Cr9d0Rp1"
      },
      "execution_count": null,
      "outputs": []
    },
    {
      "cell_type": "markdown",
      "source": [],
      "metadata": {
        "id": "LhAEfMXe1x8o"
      }
    },
    {
      "cell_type": "markdown",
      "source": [
        "## RSA Schlüssel generieren\n",
        "\n",
        "Wie werden Schlüssel-Paare generiert? Hierfür gibt es einen Algorithmus, der im Folgenden beschrieben wird. Implementieren Sie den Algorithmus. Sie benötigen dazu zwei Hilfsfunktionen, welche gegeben sind. Verwenden Sie diese.\n",
        "\n",
        "**Aufgabe:**\n",
        "- Implementieren Sie die Schlüsselerzeugung für das RSA-Verfahren nach dem unten angegebenen Algorithmus.\n",
        "- Erzeugen Sie anschliessend ein Schlüsselpaar und verwenden Sie dieses um einen beliebigen Text aus dem Internet zu verschlüsseln und entschlüsseln. Vergleichen Sie den entschlüsselten Text mit dem Ursprungstext und überprüfen Sie ob alle Zeichen korrekt wiedergegeben werden.\n",
        "\n",
        "### Der Algorithmus\n",
        "![image.png](data:image/png;base64,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)\n",
        "\n",
        "\n"
      ],
      "metadata": {
        "id": "LMW1Nnv0KaOI"
      }
    },
    {
      "cell_type": "markdown",
      "source": [
        "### Hilfsfunktionen\n",
        "Sie können die unten gegebenen Hilfsfunktionen für die Berechnung des \"modularen Inversen\" einer Zahl verwenden. Sie benötigen diese Funktion, um die Zahl $d$ im Schritt 6 zu finden.\n",
        "\n",
        "Ein Beispiel, wie sie diese Funktion verwenden finden Sie unten."
      ],
      "metadata": {
        "id": "Z2wx51B-20Qq"
      }
    },
    {
      "cell_type": "code",
      "source": [
        "def extended_euclidean(a, b):\n",
        "    \"\"\"Berechnet ggT(a, b) sowie x und y mit ax + by = ggT\"\"\"\n",
        "    if b == 0:\n",
        "        return a, 1, 0\n",
        "    else:\n",
        "        gcd, x1, y1 = extended_euclidean(b, a % b)\n",
        "        x = y1\n",
        "        y = x1 - (a // b) * y1\n",
        "        return gcd, x, y\n",
        "\n",
        "def mod_inverse(e, phi_n):\n",
        "    \"\"\"Berechnet das modulare Inverse von e modulo phi_n\"\"\"\n",
        "    gcd, x, _ = extended_euclidean(e, phi_n)\n",
        "    if gcd != 1:\n",
        "        raise ValueError(f\"Kein modulares Inverses, da ggT({e}, {phi_n}) ≠ 1\")\n",
        "    else:\n",
        "        return x % phi_n  # mod phi_n, falls x negativ ist\n",
        "\n"
      ],
      "metadata": {
        "id": "8S175r-CKar3"
      },
      "execution_count": 3,
      "outputs": []
    },
    {
      "cell_type": "code",
      "source": [
        "# Beispiel: e = 7, phi = 40\n",
        "# Bestimme das modulare Inverse von e bezüglich phi\n",
        "e = 7\n",
        "phi = 40\n",
        "d = mod_inverse(e, phi)\n",
        "print(f\"Das modulare Inverse von {e} mod {phi} ist d = {d}\")"
      ],
      "metadata": {
        "id": "g-_Hyl8W3BPV",
        "colab": {
          "base_uri": "https://localhost:8080/"
        },
        "outputId": "0d6a2c3b-ace4-4f99-aa74-009d21b1492d"
      },
      "execution_count": 4,
      "outputs": [
        {
          "output_type": "stream",
          "name": "stdout",
          "text": [
            "Das modulare Inverse von 7 mod 40 ist d = 23\n"
          ]
        }
      ]
    },
    {
      "cell_type": "markdown",
      "source": [
        "Unsere Verschlüsselungs- und Entschlüsselungs-Funktionen vom letzten Mal:"
      ],
      "metadata": {
        "id": "GK1U5Ta403Q0"
      }
    },
    {
      "cell_type": "markdown",
      "source": [
        "### Ihre Lösung\n",
        "- Implementieren Sie die Funktion `generate_rsa_keys' für die Schlüsselgenerierung gemäss dem oben angegebenen Algorithmus\n",
        "- Modifizieren Sie den unten angegebenen Code entsprechend\n",
        "\n"
      ],
      "metadata": {
        "id": "wjK1YCSG1FNO"
      }
    },
    {
      "cell_type": "code",
      "source": [
        "def generate_rsa_keys(p, q):\n",
        "    \"\"\"\n",
        "    Erzeuge ein Schlüsselpaar für das RSA-Verschlüsselungsverfahren.\n",
        "    Für die Berechnung werden zwei Primzahlen `p` und `q` benötigt.\n",
        "    \"\"\"\n",
        "    n = p * q\n",
        "    phiOfN = (p -1) * (q -1)\n",
        "    e = 65537\n",
        "    d = mod_inverse(e, phiOfN)\n",
        "    public_key = (e, n)\n",
        "    private_key = (d, n)\n",
        "\n",
        "    return public_key, private_key\n"
      ],
      "metadata": {
        "id": "8hYmTJGaA1vn"
      },
      "execution_count": 5,
      "outputs": []
    },
    {
      "cell_type": "code",
      "source": [
        "generate_rsa_keys(97,17)"
      ],
      "metadata": {
        "colab": {
          "base_uri": "https://localhost:8080/"
        },
        "id": "IPJ7ZcP4Ij6b",
        "outputId": "2fd34f7b-a53f-49c0-f3df-c81b42653346"
      },
      "execution_count": 10,
      "outputs": [
        {
          "output_type": "execute_result",
          "data": {
            "text/plain": [
              "((65537, 1649), (1025, 1649))"
            ]
          },
          "metadata": {},
          "execution_count": 10
        }
      ]
    },
    {
      "cell_type": "markdown",
      "source": [
        "### Test und Verwendung\n",
        "- Testen und verwenden Sie ihre Funktion\n",
        "- Sie benötige zwei Primzahlen\n",
        "- Verwenden Sie zwei Primzahlen zwischen 100 und 200\n",
        "- Für die Primzahlsuche kann die folgende Funktion verwendet werden"
      ],
      "metadata": {
        "id": "j4fJ5Xzt2AIy"
      }
    },
    {
      "cell_type": "code",
      "source": [
        "def ist_primzahl(n):\n",
        "    if n <= 1:\n",
        "        return False\n",
        "    if n == 2:\n",
        "        return True\n",
        "    if n % 2 == 0:\n",
        "        return False\n",
        "\n",
        "    # Nur ungerade Teiler bis zur Quadratwurzel prüfen\n",
        "    for i in range(3, int(n**0.5) + 1, 2):\n",
        "        if n % i == 0:\n",
        "            return False\n",
        "    return True"
      ],
      "metadata": {
        "id": "Zg0K5t4s1pVV"
      },
      "execution_count": 7,
      "outputs": []
    },
    {
      "cell_type": "markdown",
      "source": [
        "- **Aufgabe:** Generieren sie alle Primzahlen zwischen 100 und 200 und wählen Sie zwei aus"
      ],
      "metadata": {
        "id": "WSMRAwdl2FxI"
      }
    },
    {
      "cell_type": "code",
      "source": [
        "# Hier kommt Ihr Code\n",
        "import random\n",
        "def getTwoPrimes():\n",
        "  primes = []\n",
        "  for i in range(100, 201):\n",
        "    if ist_primzahl(i):\n",
        "      primes.append(i)\n",
        "\n",
        "  firstIndex = random.randint(0, len(primes) - 1)\n",
        "  secondIndex = random.randint(0, len(primes) - 1)\n",
        "  selectedPrimes = (primes[firstIndex], primes[secondIndex])\n",
        "  return selectedPrimes\n"
      ],
      "metadata": {
        "id": "S4-QXI5t17NT"
      },
      "execution_count": 15,
      "outputs": []
    },
    {
      "cell_type": "markdown",
      "source": [
        "- **Aufgabe:** Ein erster Test: Verwenden Sie \"Ihre\" Primzahlen indem Sie den folgenden Code modifizieren. Funktioniert die Verschlüsselung damit?"
      ],
      "metadata": {
        "id": "XxkA5CAU1UhI"
      }
    },
    {
      "cell_type": "code",
      "source": [
        "# Die gewählten Primzahlen sind\n",
        "p,q = getTwoPrimes()\n",
        "print(p)\n",
        "print(q)\n",
        "\n",
        "# Generierung der Schlüssel\n",
        "public_key, private_key = generate_rsa_keys(p, q)\n",
        "\n",
        "print(\"Public Key:\", public_key)\n",
        "print(\"Private Key:\", private_key)\n",
        "\n",
        "# Der Klartext\n",
        "text = \"Hallo Bob\"\n",
        "\n",
        "# Der Geheimtext\n",
        "verschluesselter_text = encryption_rsa(text, public_key)\n",
        "\n",
        "# Der entschlüsselte Geheimtext\n",
        "entschluesselter_text = decryption_rsa(verschluesselter_text, private_key)\n",
        "\n",
        "# Ausgabe für den Vergleich\n",
        "print(\"Ursprungstext       : \", text)\n",
        "print(\"Verschlüsselter Text: \", verschluesselter_text)\n",
        "print(\"Entschlüsselter Text: \", entschluesselter_text)\n",
        "\n",
        "# Vergleich\n",
        "if text == entschluesselter_text:\n",
        "    print(\"Der Text und der entschlüsselte Text sind identisch.\")\n",
        "else:\n",
        "    print(\"Der Text und der entschlüsselte Text sind nicht identisch.\")"
      ],
      "metadata": {
        "id": "aK4s4FvVEw-2",
        "colab": {
          "base_uri": "https://localhost:8080/"
        },
        "outputId": "451a8d54-0329-4e49-de49-372e867cc385"
      },
      "execution_count": 25,
      "outputs": [
        {
          "output_type": "stream",
          "name": "stdout",
          "text": [
            "199\n",
            "139\n",
            "Public Key: (65537, 27661)\n",
            "Private Key: (3365, 27661)\n",
            "Ursprungstext       :  Hallo Bob\n",
            "Verschlüsselter Text:  ䷫گ⺁⺁劚喺叱劚巌\n",
            "Entschlüsselter Text:  Hallo Bob\n",
            "Der Text und der entschlüsselte Text sind identisch.\n"
          ]
        }
      ]
    },
    {
      "cell_type": "markdown",
      "source": [
        "- Ein zweiter Test soll einen etwas längerem Text aus Wikipedia verwenden."
      ],
      "metadata": {
        "id": "KmHBXhSD3l-N"
      }
    },
    {
      "cell_type": "code",
      "source": [
        "klartext = \"\"\"Als Partherkriege werden die militärischen Konflikte zwischen dem Römischen Reich und dem Partherreich zwischen dem späten 1. Jahrhundert v. Chr. und dem frühen 3. Jahrhundert n. Chr. bezeichnet. Nach dem Sturz der Parther 224 bzw. 226 n. Chr. setzten sich die militärischen Auseinandersetzungen zwischen Rom bzw. Ostrom und dem Sassanidenreich noch bis ins 7. Jahrhundert fort (siehe Römisch-Persische Kriege).\n",
        "\n",
        "In fast allen Partherkriegen ging die Aggression vor allem von römischer Seite aus. Die ersten Partherkriege im 1. Jahrhundert v. Chr. resultierten aus der expansiven Außenpolitik im Rahmen der damaligen innerrömischen Machtkämpfe und führten zum 53 v. Chr. katastrophal gescheiterten Feldzug des Marcus Licinius Crassus und 36 v. Chr. zum abgebrochenen Partherfeldzug des Marcus Antonius. Auslöser der meisten folgenden Partherkriege war der Status von Armenien, das zwischen beiden Großmächten umstritten war. Der Vertrag von Rhandeia im Jahr 63 n. Chr. etablierte eine Nebenlinie des parthischen Königshauses der Arsakiden in Armenien, das nun aber formal unter römischer Oberherrschaft stand. Trajan nutzte die Absetzung des von Rom geduldeten armenischen Königs Axidares als Vorwand für seinen Partherfeldzug (114 bis 117). Dieser verlief zwar sehr erfolgreich mit großen Eroberungen, die sich aber 116/17 als nicht haltbar erwiesen, so dass Rom nach Trajans Tod die neuen Eroberungen im Osten aufgab. Der sogenannte Partherkrieg des Lucius Verus von 161/62 bis 166 resultierte aus dem parthischen Versuch, Armenien wieder vollständig unter Kontrolle zu bringen, was aber mit einer Niederlage für die Parther endete. Die beiden Partherfeldzüge des Septimius Severus in den Jahren 195 und 197/98 waren begrenzte Militäroperationen, die erfolgreich verliefen, wobei die Römer wie so oft von innerparthischen Unruhen profitierten. Der geplante Partherfeldzug Caracallas 216/17 war ebenfalls der Versuch, Druck auf Parthien auszuüben, der Feldzug hatte zum Zeitpunkt von Caracallas Ermordung aber noch nicht wirklich begonnen.\"\"\""
      ],
      "metadata": {
        "id": "XoZNPn6plDXk"
      },
      "execution_count": 26,
      "outputs": []
    },
    {
      "cell_type": "markdown",
      "source": [
        "- **Aufgabe**: Aus wie vielen Zeichen besteht dieser Text? Finden Sie es heraus."
      ],
      "metadata": {
        "id": "jHlp7IBi59yZ"
      }
    },
    {
      "cell_type": "code",
      "source": [
        "print(len(klartext))"
      ],
      "metadata": {
        "id": "19ikkxwY6DM7",
        "colab": {
          "base_uri": "https://localhost:8080/"
        },
        "outputId": "06fe7690-73bf-42fb-d60d-689047b4f1b6"
      },
      "execution_count": 27,
      "outputs": [
        {
          "output_type": "stream",
          "name": "stdout",
          "text": [
            "2040\n"
          ]
        }
      ]
    },
    {
      "cell_type": "markdown",
      "source": [
        "- Funktioniert die Verschlüsselung und Entschlüsselung?\n",
        "- Wie lange dauert es bis der Text ver- und entschlüsselt wird?\n",
        "- Dies kann mit dem Folgenden Code getestet werden\n",
        "- **Aufgabe:** Lassen Sie den Code laufen und bestimmen Sie die Ausführungszeit.Verwenden Sie allenfalls \"Ihre\" Primzahlen, indem Sie den Code ändern. Können Sie wiedergeben, was der Code macht?"
      ],
      "metadata": {
        "id": "fks_-0X36n6k"
      }
    },
    {
      "cell_type": "code",
      "source": [
        "# Die gewählten Primzahlen\n",
        "p,q = getTwoPrimes()\n",
        "\n",
        "# Generierung der Schlüssel\n",
        "public_key, private_key = generate_rsa_keys(p, q)"
      ],
      "metadata": {
        "id": "yMP5pm5ml6_5"
      },
      "execution_count": 28,
      "outputs": []
    },
    {
      "cell_type": "code",
      "source": [
        "%%time\n",
        "# Verschlüsselung und Entschlüsselung\n",
        "neuer_klartext = decryption_rsa(encryption_rsa(klartext, public_key), private_key)\n"
      ],
      "metadata": {
        "id": "o1UNLb8M4QUj",
        "colab": {
          "base_uri": "https://localhost:8080/"
        },
        "outputId": "ddb72a0c-14d6-4abd-f2c5-f1c38c8891b7"
      },
      "execution_count": 29,
      "outputs": [
        {
          "output_type": "stream",
          "name": "stdout",
          "text": [
            "CPU times: user 39.7 s, sys: 0 ns, total: 39.7 s\n",
            "Wall time: 40 s\n"
          ]
        }
      ]
    },
    {
      "cell_type": "code",
      "source": [
        "# Vergleich\n",
        "if text == entschluesselter_text:\n",
        "    print(\"Der Text und der entschlüsselte Text sind identisch.\")\n",
        "else:\n",
        "    print(\"Der Text und der entschlüsselte Text sind nicht identisch.\")\n"
      ],
      "metadata": {
        "id": "roKOBkJXmzlu",
        "colab": {
          "base_uri": "https://localhost:8080/"
        },
        "outputId": "4c605269-424f-4b06-d73c-9a32bac0eab9"
      },
      "execution_count": 30,
      "outputs": [
        {
          "output_type": "stream",
          "name": "stdout",
          "text": [
            "Der Text und der entschlüsselte Text sind identisch.\n"
          ]
        }
      ]
    },
    {
      "cell_type": "markdown",
      "source": [
        "### RSA-Verschlüsselung für Fortgeschrittene\n",
        "Ist Dir aufgefallen ...\n",
        "- Die RSA-Verschlüsselung und die RSA-Entschlüsselung verwenden denselben Algorithmus, nur andere Schlüssel.\n",
        "\n",
        "Damit reicht es eine Funktion zu programmieren. Sie kann sowohl für die Verschlüsselung als auch für die Entschlüsselung verwendet werden."
      ],
      "metadata": {
        "id": "DgRE1fG-6K1L"
      }
    },
    {
      "cell_type": "code",
      "source": [
        "def rsa(text, key):\n",
        "    \"\"\"\n",
        "    RSA-Verfahren für Ver- und Entschlüsselung\n",
        "    \"\"\"\n",
        "    f, n = key\n",
        "    new_text = \"\"\n",
        "    for letter in text:\n",
        "        u = ord(letter)\n",
        "        q = (u ** f) % n\n",
        "        new_letter = chr(q)\n",
        "        new_text += new_letter\n",
        "    return new_text"
      ],
      "metadata": {
        "id": "hINE1Qzp5FiI"
      },
      "execution_count": null,
      "outputs": []
    },
    {
      "cell_type": "code",
      "source": [
        "old = \"Hallo Bob\"\n",
        "p = 101\n",
        "q = 137\n",
        "public_key, private_key = generate_rsa_keys(p, q)\n",
        "\n",
        "secret = rsa(old, public_key)\n",
        "new = rsa(secret, private_key)\n",
        "\n",
        "print(old)\n",
        "print(secret)\n",
        "print(new)\n",
        "print(new == old)\n"
      ],
      "metadata": {
        "id": "eXaLJRRO7dwA"
      },
      "execution_count": null,
      "outputs": []
    },
    {
      "cell_type": "code",
      "source": [],
      "metadata": {
        "id": "lEfhoY0f8q9R"
      },
      "execution_count": null,
      "outputs": []
    }
  ]
}